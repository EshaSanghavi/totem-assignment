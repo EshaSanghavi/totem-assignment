{
  "nbformat": 4,
  "nbformat_minor": 0,
  "metadata": {
    "colab": {
      "provenance": [],
      "authorship_tag": "ABX9TyPNL71a3glBvDH3owLmRo8h",
      "include_colab_link": true
    },
    "kernelspec": {
      "name": "python3",
      "display_name": "Python 3"
    },
    "language_info": {
      "name": "python"
    }
  },
  "cells": [
    {
      "cell_type": "markdown",
      "metadata": {
        "id": "view-in-github",
        "colab_type": "text"
      },
      "source": [
        "<a href=\"https://colab.research.google.com/github/EshaSanghavi/totem-assignment/blob/main/dsa/DeliveryOrder.ipynb\" target=\"_parent\"><img src=\"https://colab.research.google.com/assets/colab-badge.svg\" alt=\"Open In Colab\"/></a>"
      ]
    },
    {
      "cell_type": "code",
      "execution_count": null,
      "metadata": {
        "colab": {
          "base_uri": "https://localhost:8080/"
        },
        "id": "S9ja07cjA_y1",
        "outputId": "53a94908-7b81-4051-f56f-0968bc1b7cd2"
      },
      "outputs": [
        {
          "output_type": "stream",
          "name": "stdout",
          "text": [
            "Enter order (e.g., 'Express order: (x, y)' or 'Priority order: (x, y)'), or 'Q/q' to finish: \n",
            "Express order: (5, 3)\n",
            "Express order: (1, 2)\n",
            "Express order: (7, 8)\n",
            "Priority order: (4, 5)\n",
            "Express order: (2, 4)\n",
            "Priority order: (6, 6)\n",
            "q\n",
            "\n",
            "Delivery Agent 1:\n",
            " - Priority order: (4, 5)\n",
            " - Express order: (5, 3)\n",
            " - Express order: (1, 2)\n",
            "\n",
            "Delivery Agent 2:\n",
            " - Priority order: (6, 6)\n",
            " - Express order: (7, 8)\n",
            " - Express order: (2, 4)\n",
            "\n"
          ]
        }
      ],
      "source": [
        "import math\n",
        "\n",
        "express_orders = [] # List of tuples to store Express orders\n",
        "assigned = [] # List of dictionaries to store assigned orders\n",
        "agents = 1\n",
        "\n",
        "def add_express_order(location):\n",
        "    # Add Express order to the pool.\n",
        "    express_orders.append(location)\n",
        "\n",
        "def add_priority_order(location):\n",
        "    # Assign Priority order along with up to 2 closest Express orders.\n",
        "    global agents\n",
        "\n",
        "    if len(express_orders) == 0:\n",
        "        # No Express orders\n",
        "        assigned.append({\n",
        "            'agent_id': agents,\n",
        "            'priority_order': location,\n",
        "            'express_orders': []\n",
        "        })\n",
        "        agents += 1\n",
        "        return\n",
        "\n",
        "    distances = [(calc_distance(location, exp_loc), exp_loc) for exp_loc in express_orders]\n",
        "    distances.sort()\n",
        "\n",
        "    if len(express_orders) >= 2:\n",
        "        # Getting 2 closest Express orders\n",
        "        closest1 = distances[0][1]\n",
        "        closest2 = distances[1][1]\n",
        "\n",
        "        # Removing from Express orders pool\n",
        "        express_orders.remove(closest1)\n",
        "        express_orders.remove(closest2)\n",
        "\n",
        "        # Assigning Priority order to current agent along with 2 Express orders\n",
        "        assigned.append({\n",
        "            'agent_id': agents,\n",
        "            'priority_order': location,\n",
        "            'express_orders': [closest1, closest2]\n",
        "        })\n",
        "\n",
        "    else:\n",
        "        # Only one Express order is available\n",
        "        closest1 = distances[0][1]\n",
        "        express_orders.remove(closest1)\n",
        "\n",
        "        # Assigning Priority order to current agent along with 1 Express orders\n",
        "        assigned.append({\n",
        "            'agent_id': agents,\n",
        "            'priority_order': location,\n",
        "            'express_orders': [closest1]\n",
        "        })\n",
        "\n",
        "    agents += 1\n",
        "\n",
        "def calc_distance(point1, point2):\n",
        "    # Calculating Euclidean distance between two points.\n",
        "    x1, y1 = point1\n",
        "    x2, y2 = point2\n",
        "    return math.sqrt((x2 - x1) ** 2 + (y2 - y1) ** 2)\n",
        "\n",
        "def display_assignments():\n",
        "    print()\n",
        "    for assignment in assigned:\n",
        "        print(f\"Delivery Agent {assignment['agent_id']}:\")\n",
        "        print(f\" - Priority order: {assignment['priority_order']}\")\n",
        "        for express_order in assignment['express_orders']:\n",
        "            print(f\" - Express order: {express_order}\")\n",
        "        print()\n",
        "\n",
        "def get_input():\n",
        "    print(\"Enter orders ('Express order: (x, y)' or 'Priority order: (x, y)'), or 'Q/q' to finish\")\n",
        "    while True:\n",
        "        user_input = input()\n",
        "\n",
        "        if user_input.lower() == 'q':\n",
        "            break\n",
        "\n",
        "        order_type, location = user_input.split(\":\")\n",
        "        location = location.strip().strip(\"()\").split(\",\")\n",
        "        location = (int(location[0]), int(location[1]))\n",
        "\n",
        "        if order_type.strip().lower() == 'express order':\n",
        "            add_express_order(location)\n",
        "        elif order_type.strip().lower() == 'priority order':\n",
        "            add_priority_order(location)\n",
        "        else:\n",
        "            print(\"Invalid input, please enter either 'Express order' or 'Priority order'.\")\n",
        "\n",
        "    display_assignments()\n",
        "\n",
        "get_input()"
      ]
    },
    {
      "cell_type": "code",
      "source": [],
      "metadata": {
        "id": "o8nITAH3BI73"
      },
      "execution_count": null,
      "outputs": []
    }
  ]
}
